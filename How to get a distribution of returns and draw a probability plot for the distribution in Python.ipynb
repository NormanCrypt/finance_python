{
 "cells": [
  {
   "cell_type": "code",
   "execution_count": 1,
   "metadata": {},
   "outputs": [
    {
     "name": "stderr",
     "output_type": "stream",
     "text": [
      "/opt/conda/lib/python3.7/site-packages/pandas_datareader/compat/__init__.py:7: FutureWarning: pandas.util.testing is deprecated. Use the functions in the public API at pandas.testing instead.\n",
      "  from pandas.util.testing import assert_frame_equal\n"
     ]
    }
   ],
   "source": [
    "#!/usr/bin/python\n",
    "import warnings\n",
    "import datetime\n",
    "import numpy as np\n",
    "import pandas as pd\n",
    "import pandas_datareader.data as pdr\n",
    "import matplotlib.pyplot as plt\n",
    "\n",
    "warnings.simplefilter('ignore', FutureWarning)"
   ]
  },
  {
   "cell_type": "code",
   "execution_count": 2,
   "metadata": {},
   "outputs": [],
   "source": [
    "# fetch multiple asset data\n",
    "def getMultiAssetData(ticketList, date_from, date_to):\n",
    "    def getData(ticker):\n",
    "        data = pdr.DataReader(ticker, 'yahoo', date_from, date_to)\n",
    "        return data\n",
    "    datas = map(getData, tickerList)\n",
    "    return pd.concat(datas, keys=tickerList, names=['Ticker', 'Date'])"
   ]
  },
  {
   "cell_type": "markdown",
   "metadata": {},
   "source": [
    "# https://pandas-datareader.readthedocs.io/en/latest/remote_data.html\n",
    "Y|AAPL|Apple Inc. - Common Stock|Q|Q|N|100|N|N||AAPL|N  \n",
    "Y|AMZN|Amazon.com, Inc. - Common Stock|Q|Q|N|100|N|N||AMZN|N  \n",
    "Y|CCEP|Coca-Cola European Partners plc Ordinary Shares|N| |N|100|N||CCEP|CCEP|N  \n",
    "Y|FB|Facebook, Inc. - Class A Common Stock|Q|Q|N|100|N|N||FB|N  \n",
    "Y|JNJ|Johnson & Johnson Common Stock|N| |N|100|N||JNJ|JNJ|N  \n",
    "Y|JWN|Nordstrom, Inc. Common Stock|N| |N|100|N||JWN|JWN|N  \n",
    "Y|NVS|Novartis AG Common Stock|N| |N|100|N||NVS|NVS|N  \n",
    "Y|PG|Procter & Gamble Company (The) Common Stock|N| |N|100|N||PG|PG|N  "
   ]
  },
  {
   "cell_type": "code",
   "execution_count": 3,
   "metadata": {},
   "outputs": [],
   "source": [
    "date_from = datetime.date(2018, 1, 1)\n",
    "date_to = datetime.date(2020, 8, 31)\n",
    "tickerList = ['AAPL', 'AMZN', 'CCEP', 'FB', 'JNJ', 'JWN', 'NVS', 'PG']\n",
    "multiData = getMultiAssetData(tickerList, date_from, date_to)\n",
    "df = multiData.copy()"
   ]
  },
  {
   "cell_type": "code",
   "execution_count": 4,
   "metadata": {},
   "outputs": [
    {
     "data": {
      "text/html": [
       "<div>\n",
       "<style scoped>\n",
       "    .dataframe tbody tr th:only-of-type {\n",
       "        vertical-align: middle;\n",
       "    }\n",
       "\n",
       "    .dataframe tbody tr th {\n",
       "        vertical-align: top;\n",
       "    }\n",
       "\n",
       "    .dataframe thead th {\n",
       "        text-align: right;\n",
       "    }\n",
       "</style>\n",
       "<table border=\"1\" class=\"dataframe\">\n",
       "  <thead>\n",
       "    <tr style=\"text-align: right;\">\n",
       "      <th></th>\n",
       "      <th>High</th>\n",
       "      <th>Low</th>\n",
       "      <th>Open</th>\n",
       "      <th>Close</th>\n",
       "      <th>Volume</th>\n",
       "      <th>Adj Close</th>\n",
       "    </tr>\n",
       "    <tr>\n",
       "      <th>Date</th>\n",
       "      <th></th>\n",
       "      <th></th>\n",
       "      <th></th>\n",
       "      <th></th>\n",
       "      <th></th>\n",
       "      <th></th>\n",
       "    </tr>\n",
       "  </thead>\n",
       "  <tbody>\n",
       "    <tr>\n",
       "      <th>2018-01-02</th>\n",
       "      <td>43.075001</td>\n",
       "      <td>42.314999</td>\n",
       "      <td>42.540001</td>\n",
       "      <td>43.064999</td>\n",
       "      <td>102223600.0</td>\n",
       "      <td>41.513580</td>\n",
       "    </tr>\n",
       "    <tr>\n",
       "      <th>2018-01-03</th>\n",
       "      <td>43.637501</td>\n",
       "      <td>42.990002</td>\n",
       "      <td>43.132500</td>\n",
       "      <td>43.057499</td>\n",
       "      <td>118071600.0</td>\n",
       "      <td>41.506344</td>\n",
       "    </tr>\n",
       "    <tr>\n",
       "      <th>2018-01-04</th>\n",
       "      <td>43.367500</td>\n",
       "      <td>43.020000</td>\n",
       "      <td>43.134998</td>\n",
       "      <td>43.257500</td>\n",
       "      <td>89738400.0</td>\n",
       "      <td>41.699139</td>\n",
       "    </tr>\n",
       "    <tr>\n",
       "      <th>2018-01-05</th>\n",
       "      <td>43.842499</td>\n",
       "      <td>43.262501</td>\n",
       "      <td>43.360001</td>\n",
       "      <td>43.750000</td>\n",
       "      <td>94640000.0</td>\n",
       "      <td>42.173893</td>\n",
       "    </tr>\n",
       "    <tr>\n",
       "      <th>2018-01-08</th>\n",
       "      <td>43.902500</td>\n",
       "      <td>43.482498</td>\n",
       "      <td>43.587502</td>\n",
       "      <td>43.587502</td>\n",
       "      <td>82271200.0</td>\n",
       "      <td>42.017254</td>\n",
       "    </tr>\n",
       "    <tr>\n",
       "      <th>...</th>\n",
       "      <td>...</td>\n",
       "      <td>...</td>\n",
       "      <td>...</td>\n",
       "      <td>...</td>\n",
       "      <td>...</td>\n",
       "      <td>...</td>\n",
       "    </tr>\n",
       "    <tr>\n",
       "      <th>2020-08-25</th>\n",
       "      <td>125.180000</td>\n",
       "      <td>123.052498</td>\n",
       "      <td>124.697502</td>\n",
       "      <td>124.824997</td>\n",
       "      <td>211495600.0</td>\n",
       "      <td>124.824997</td>\n",
       "    </tr>\n",
       "    <tr>\n",
       "      <th>2020-08-26</th>\n",
       "      <td>126.992500</td>\n",
       "      <td>125.082497</td>\n",
       "      <td>126.180000</td>\n",
       "      <td>126.522499</td>\n",
       "      <td>163022400.0</td>\n",
       "      <td>126.522499</td>\n",
       "    </tr>\n",
       "    <tr>\n",
       "      <th>2020-08-27</th>\n",
       "      <td>127.485001</td>\n",
       "      <td>123.832497</td>\n",
       "      <td>127.142502</td>\n",
       "      <td>125.010002</td>\n",
       "      <td>155552400.0</td>\n",
       "      <td>125.010002</td>\n",
       "    </tr>\n",
       "    <tr>\n",
       "      <th>2020-08-28</th>\n",
       "      <td>126.442497</td>\n",
       "      <td>124.577499</td>\n",
       "      <td>126.012497</td>\n",
       "      <td>124.807503</td>\n",
       "      <td>187630000.0</td>\n",
       "      <td>124.807503</td>\n",
       "    </tr>\n",
       "    <tr>\n",
       "      <th>2020-08-31</th>\n",
       "      <td>131.000000</td>\n",
       "      <td>126.000000</td>\n",
       "      <td>127.580002</td>\n",
       "      <td>129.039993</td>\n",
       "      <td>225702700.0</td>\n",
       "      <td>129.039993</td>\n",
       "    </tr>\n",
       "  </tbody>\n",
       "</table>\n",
       "<p>671 rows × 6 columns</p>\n",
       "</div>"
      ],
      "text/plain": [
       "                  High         Low        Open       Close       Volume  \\\n",
       "Date                                                                      \n",
       "2018-01-02   43.075001   42.314999   42.540001   43.064999  102223600.0   \n",
       "2018-01-03   43.637501   42.990002   43.132500   43.057499  118071600.0   \n",
       "2018-01-04   43.367500   43.020000   43.134998   43.257500   89738400.0   \n",
       "2018-01-05   43.842499   43.262501   43.360001   43.750000   94640000.0   \n",
       "2018-01-08   43.902500   43.482498   43.587502   43.587502   82271200.0   \n",
       "...                ...         ...         ...         ...          ...   \n",
       "2020-08-25  125.180000  123.052498  124.697502  124.824997  211495600.0   \n",
       "2020-08-26  126.992500  125.082497  126.180000  126.522499  163022400.0   \n",
       "2020-08-27  127.485001  123.832497  127.142502  125.010002  155552400.0   \n",
       "2020-08-28  126.442497  124.577499  126.012497  124.807503  187630000.0   \n",
       "2020-08-31  131.000000  126.000000  127.580002  129.039993  225702700.0   \n",
       "\n",
       "             Adj Close  \n",
       "Date                    \n",
       "2018-01-02   41.513580  \n",
       "2018-01-03   41.506344  \n",
       "2018-01-04   41.699139  \n",
       "2018-01-05   42.173893  \n",
       "2018-01-08   42.017254  \n",
       "...                ...  \n",
       "2020-08-25  124.824997  \n",
       "2020-08-26  126.522499  \n",
       "2020-08-27  125.010002  \n",
       "2020-08-28  124.807503  \n",
       "2020-08-31  129.039993  \n",
       "\n",
       "[671 rows x 6 columns]"
      ]
     },
     "execution_count": 4,
     "metadata": {},
     "output_type": "execute_result"
    }
   ],
   "source": [
    "df.loc['AAPL', :]"
   ]
  },
  {
   "cell_type": "code",
   "execution_count": 5,
   "metadata": {},
   "outputs": [
    {
     "data": {
      "text/html": [
       "<div>\n",
       "<style scoped>\n",
       "    .dataframe tbody tr th:only-of-type {\n",
       "        vertical-align: middle;\n",
       "    }\n",
       "\n",
       "    .dataframe tbody tr th {\n",
       "        vertical-align: top;\n",
       "    }\n",
       "\n",
       "    .dataframe thead th {\n",
       "        text-align: right;\n",
       "    }\n",
       "</style>\n",
       "<table border=\"1\" class=\"dataframe\">\n",
       "  <thead>\n",
       "    <tr style=\"text-align: right;\">\n",
       "      <th></th>\n",
       "      <th>High</th>\n",
       "      <th>Low</th>\n",
       "      <th>Open</th>\n",
       "      <th>Close</th>\n",
       "      <th>Volume</th>\n",
       "      <th>Adj Close</th>\n",
       "      <th>Return</th>\n",
       "    </tr>\n",
       "    <tr>\n",
       "      <th>Date</th>\n",
       "      <th></th>\n",
       "      <th></th>\n",
       "      <th></th>\n",
       "      <th></th>\n",
       "      <th></th>\n",
       "      <th></th>\n",
       "      <th></th>\n",
       "    </tr>\n",
       "  </thead>\n",
       "  <tbody>\n",
       "    <tr>\n",
       "      <th>2020-08-25</th>\n",
       "      <td>125.180000</td>\n",
       "      <td>123.052498</td>\n",
       "      <td>124.697502</td>\n",
       "      <td>124.824997</td>\n",
       "      <td>211495600.0</td>\n",
       "      <td>124.824997</td>\n",
       "      <td>-0.008204</td>\n",
       "    </tr>\n",
       "    <tr>\n",
       "      <th>2020-08-26</th>\n",
       "      <td>126.992500</td>\n",
       "      <td>125.082497</td>\n",
       "      <td>126.180000</td>\n",
       "      <td>126.522499</td>\n",
       "      <td>163022400.0</td>\n",
       "      <td>126.522499</td>\n",
       "      <td>0.013599</td>\n",
       "    </tr>\n",
       "    <tr>\n",
       "      <th>2020-08-27</th>\n",
       "      <td>127.485001</td>\n",
       "      <td>123.832497</td>\n",
       "      <td>127.142502</td>\n",
       "      <td>125.010002</td>\n",
       "      <td>155552400.0</td>\n",
       "      <td>125.010002</td>\n",
       "      <td>-0.011954</td>\n",
       "    </tr>\n",
       "    <tr>\n",
       "      <th>2020-08-28</th>\n",
       "      <td>126.442497</td>\n",
       "      <td>124.577499</td>\n",
       "      <td>126.012497</td>\n",
       "      <td>124.807503</td>\n",
       "      <td>187630000.0</td>\n",
       "      <td>124.807503</td>\n",
       "      <td>-0.001620</td>\n",
       "    </tr>\n",
       "    <tr>\n",
       "      <th>2020-08-31</th>\n",
       "      <td>131.000000</td>\n",
       "      <td>126.000000</td>\n",
       "      <td>127.580002</td>\n",
       "      <td>129.039993</td>\n",
       "      <td>225702700.0</td>\n",
       "      <td>129.039993</td>\n",
       "      <td>0.033912</td>\n",
       "    </tr>\n",
       "  </tbody>\n",
       "</table>\n",
       "</div>"
      ],
      "text/plain": [
       "                  High         Low        Open       Close       Volume  \\\n",
       "Date                                                                      \n",
       "2020-08-25  125.180000  123.052498  124.697502  124.824997  211495600.0   \n",
       "2020-08-26  126.992500  125.082497  126.180000  126.522499  163022400.0   \n",
       "2020-08-27  127.485001  123.832497  127.142502  125.010002  155552400.0   \n",
       "2020-08-28  126.442497  124.577499  126.012497  124.807503  187630000.0   \n",
       "2020-08-31  131.000000  126.000000  127.580002  129.039993  225702700.0   \n",
       "\n",
       "             Adj Close    Return  \n",
       "Date                              \n",
       "2020-08-25  124.824997 -0.008204  \n",
       "2020-08-26  126.522499  0.013599  \n",
       "2020-08-27  125.010002 -0.011954  \n",
       "2020-08-28  124.807503 -0.001620  \n",
       "2020-08-31  129.039993  0.033912  "
      ]
     },
     "execution_count": 5,
     "metadata": {},
     "output_type": "execute_result"
    }
   ],
   "source": [
    "aapl = df.loc['AAPL', :]\n",
    "aapl['Return'] = aapl['Close'].pct_change().fillna(method='bfill')\n",
    "aapl.tail()"
   ]
  },
  {
   "cell_type": "code",
   "execution_count": 6,
   "metadata": {},
   "outputs": [
    {
     "name": "stdout",
     "output_type": "stream",
     "text": [
      "High         False\n",
      "Low          False\n",
      "Open         False\n",
      "Close        False\n",
      "Volume       False\n",
      "Adj Close    False\n",
      "Return       False\n",
      "dtype: bool\n"
     ]
    },
    {
     "data": {
      "text/plain": [
       "count    671.000000\n",
       "mean       0.001871\n",
       "std        0.021677\n",
       "min       -0.128647\n",
       "25%       -0.007543\n",
       "50%        0.001810\n",
       "75%        0.011846\n",
       "max        0.119808\n",
       "Name: Return, dtype: float64"
      ]
     },
     "execution_count": 6,
     "metadata": {},
     "output_type": "execute_result"
    }
   ],
   "source": [
    "print(aapl.isnull().all())\n",
    "aapl['Return'].describe() # stats information for Apple Inc. Return"
   ]
  },
  {
   "cell_type": "code",
   "execution_count": 7,
   "metadata": {},
   "outputs": [
    {
     "data": {
      "image/png": "[encoded data removed]",
      "text/plain": [
       "<Figure size 1080x504 with 1 Axes>"
      ]
     },
     "metadata": {
      "needs_background": "light"
     },
     "output_type": "display_data"
    }
   ],
   "source": [
    "%matplotlib inline\n",
    "fig = plt.figure(figsize=(15, 7))\n",
    "ax1 = fig.add_subplot(1, 1, 1)\n",
    "aapl['Return'].hist(bins=50, ax=ax1)\n",
    "ax1.set_xlabel('Return')\n",
    "ax1.set_ylabel('Frequency')\n",
    "ax1.set_title('Return distribution')\n",
    "plt.show()"
   ]
  },
  {
   "cell_type": "code",
   "execution_count": 8,
   "metadata": {},
   "outputs": [
    {
     "data": {
      "text/html": [
       "<div>\n",
       "<style scoped>\n",
       "    .dataframe tbody tr th:only-of-type {\n",
       "        vertical-align: middle;\n",
       "    }\n",
       "\n",
       "    .dataframe tbody tr th {\n",
       "        vertical-align: top;\n",
       "    }\n",
       "\n",
       "    .dataframe thead th {\n",
       "        text-align: right;\n",
       "    }\n",
       "</style>\n",
       "<table border=\"1\" class=\"dataframe\">\n",
       "  <thead>\n",
       "    <tr style=\"text-align: right;\">\n",
       "      <th>Ticker</th>\n",
       "      <th>AAPL</th>\n",
       "      <th>AMZN</th>\n",
       "      <th>CCEP</th>\n",
       "      <th>FB</th>\n",
       "      <th>JNJ</th>\n",
       "      <th>JWN</th>\n",
       "      <th>NVS</th>\n",
       "      <th>PG</th>\n",
       "    </tr>\n",
       "    <tr>\n",
       "      <th>Date</th>\n",
       "      <th></th>\n",
       "      <th></th>\n",
       "      <th></th>\n",
       "      <th></th>\n",
       "      <th></th>\n",
       "      <th></th>\n",
       "      <th></th>\n",
       "      <th></th>\n",
       "    </tr>\n",
       "  </thead>\n",
       "  <tbody>\n",
       "    <tr>\n",
       "      <th>2020-08-25</th>\n",
       "      <td>124.824997</td>\n",
       "      <td>3346.489990</td>\n",
       "      <td>41.750000</td>\n",
       "      <td>280.820007</td>\n",
       "      <td>152.059998</td>\n",
       "      <td>15.54</td>\n",
       "      <td>86.449997</td>\n",
       "      <td>139.059998</td>\n",
       "    </tr>\n",
       "    <tr>\n",
       "      <th>2020-08-26</th>\n",
       "      <td>126.522499</td>\n",
       "      <td>3441.850098</td>\n",
       "      <td>41.500000</td>\n",
       "      <td>303.910004</td>\n",
       "      <td>152.300003</td>\n",
       "      <td>14.69</td>\n",
       "      <td>87.029999</td>\n",
       "      <td>138.389999</td>\n",
       "    </tr>\n",
       "    <tr>\n",
       "      <th>2020-08-27</th>\n",
       "      <td>125.010002</td>\n",
       "      <td>3400.000000</td>\n",
       "      <td>41.500000</td>\n",
       "      <td>293.220001</td>\n",
       "      <td>152.979996</td>\n",
       "      <td>14.79</td>\n",
       "      <td>87.000000</td>\n",
       "      <td>138.210007</td>\n",
       "    </tr>\n",
       "    <tr>\n",
       "      <th>2020-08-28</th>\n",
       "      <td>124.807503</td>\n",
       "      <td>3401.800049</td>\n",
       "      <td>41.919998</td>\n",
       "      <td>293.660004</td>\n",
       "      <td>153.639999</td>\n",
       "      <td>15.68</td>\n",
       "      <td>86.599998</td>\n",
       "      <td>138.770004</td>\n",
       "    </tr>\n",
       "    <tr>\n",
       "      <th>2020-08-31</th>\n",
       "      <td>129.039993</td>\n",
       "      <td>3450.959961</td>\n",
       "      <td>41.160000</td>\n",
       "      <td>293.200012</td>\n",
       "      <td>153.410004</td>\n",
       "      <td>16.00</td>\n",
       "      <td>86.059998</td>\n",
       "      <td>138.330002</td>\n",
       "    </tr>\n",
       "  </tbody>\n",
       "</table>\n",
       "</div>"
      ],
      "text/plain": [
       "Ticker            AAPL         AMZN       CCEP          FB         JNJ    JWN  \\\n",
       "Date                                                                            \n",
       "2020-08-25  124.824997  3346.489990  41.750000  280.820007  152.059998  15.54   \n",
       "2020-08-26  126.522499  3441.850098  41.500000  303.910004  152.300003  14.69   \n",
       "2020-08-27  125.010002  3400.000000  41.500000  293.220001  152.979996  14.79   \n",
       "2020-08-28  124.807503  3401.800049  41.919998  293.660004  153.639999  15.68   \n",
       "2020-08-31  129.039993  3450.959961  41.160000  293.200012  153.410004  16.00   \n",
       "\n",
       "Ticker            NVS          PG  \n",
       "Date                               \n",
       "2020-08-25  86.449997  139.059998  \n",
       "2020-08-26  87.029999  138.389999  \n",
       "2020-08-27  87.000000  138.210007  \n",
       "2020-08-28  86.599998  138.770004  \n",
       "2020-08-31  86.059998  138.330002  "
      ]
     },
     "execution_count": 8,
     "metadata": {},
     "output_type": "execute_result"
    }
   ],
   "source": [
    "# use pivot to reshape DataFrame with only Close\n",
    "df = multiData.copy()\n",
    "closePrice = df[['Close']]\n",
    "closePrice = closePrice.reset_index()\n",
    "closePriceTable = closePrice.pivot(index='Date', columns='Ticker', values='Close')\n",
    "closePriceTable.tail()"
   ]
  },
  {
   "cell_type": "code",
   "execution_count": 9,
   "metadata": {},
   "outputs": [
    {
     "data": {
      "text/html": [
       "<div>\n",
       "<style scoped>\n",
       "    .dataframe tbody tr th:only-of-type {\n",
       "        vertical-align: middle;\n",
       "    }\n",
       "\n",
       "    .dataframe tbody tr th {\n",
       "        vertical-align: top;\n",
       "    }\n",
       "\n",
       "    .dataframe thead th {\n",
       "        text-align: right;\n",
       "    }\n",
       "</style>\n",
       "<table border=\"1\" class=\"dataframe\">\n",
       "  <thead>\n",
       "    <tr style=\"text-align: right;\">\n",
       "      <th>Ticker</th>\n",
       "      <th>AAPL</th>\n",
       "      <th>AMZN</th>\n",
       "      <th>CCEP</th>\n",
       "      <th>FB</th>\n",
       "      <th>JNJ</th>\n",
       "      <th>JWN</th>\n",
       "      <th>NVS</th>\n",
       "      <th>PG</th>\n",
       "    </tr>\n",
       "    <tr>\n",
       "      <th>Date</th>\n",
       "      <th></th>\n",
       "      <th></th>\n",
       "      <th></th>\n",
       "      <th></th>\n",
       "      <th></th>\n",
       "      <th></th>\n",
       "      <th></th>\n",
       "      <th></th>\n",
       "    </tr>\n",
       "  </thead>\n",
       "  <tbody>\n",
       "    <tr>\n",
       "      <th>2020-08-25</th>\n",
       "      <td>-0.008204</td>\n",
       "      <td>0.011801</td>\n",
       "      <td>0.017300</td>\n",
       "      <td>0.034747</td>\n",
       "      <td>-0.000591</td>\n",
       "      <td>-0.001927</td>\n",
       "      <td>0.000810</td>\n",
       "      <td>0.003971</td>\n",
       "    </tr>\n",
       "    <tr>\n",
       "      <th>2020-08-26</th>\n",
       "      <td>0.013599</td>\n",
       "      <td>0.028496</td>\n",
       "      <td>-0.005988</td>\n",
       "      <td>0.082223</td>\n",
       "      <td>0.001578</td>\n",
       "      <td>-0.054698</td>\n",
       "      <td>0.006709</td>\n",
       "      <td>-0.004818</td>\n",
       "    </tr>\n",
       "    <tr>\n",
       "      <th>2020-08-27</th>\n",
       "      <td>-0.011954</td>\n",
       "      <td>-0.012159</td>\n",
       "      <td>0.000000</td>\n",
       "      <td>-0.035175</td>\n",
       "      <td>0.004465</td>\n",
       "      <td>0.006807</td>\n",
       "      <td>-0.000345</td>\n",
       "      <td>-0.001301</td>\n",
       "    </tr>\n",
       "    <tr>\n",
       "      <th>2020-08-28</th>\n",
       "      <td>-0.001620</td>\n",
       "      <td>0.000529</td>\n",
       "      <td>0.010120</td>\n",
       "      <td>0.001501</td>\n",
       "      <td>0.004314</td>\n",
       "      <td>0.060176</td>\n",
       "      <td>-0.004598</td>\n",
       "      <td>0.004052</td>\n",
       "    </tr>\n",
       "    <tr>\n",
       "      <th>2020-08-31</th>\n",
       "      <td>0.033912</td>\n",
       "      <td>0.014451</td>\n",
       "      <td>-0.018130</td>\n",
       "      <td>-0.001566</td>\n",
       "      <td>-0.001497</td>\n",
       "      <td>0.020408</td>\n",
       "      <td>-0.006236</td>\n",
       "      <td>-0.003171</td>\n",
       "    </tr>\n",
       "  </tbody>\n",
       "</table>\n",
       "</div>"
      ],
      "text/plain": [
       "Ticker          AAPL      AMZN      CCEP        FB       JNJ       JWN  \\\n",
       "Date                                                                     \n",
       "2020-08-25 -0.008204  0.011801  0.017300  0.034747 -0.000591 -0.001927   \n",
       "2020-08-26  0.013599  0.028496 -0.005988  0.082223  0.001578 -0.054698   \n",
       "2020-08-27 -0.011954 -0.012159  0.000000 -0.035175  0.004465  0.006807   \n",
       "2020-08-28 -0.001620  0.000529  0.010120  0.001501  0.004314  0.060176   \n",
       "2020-08-31  0.033912  0.014451 -0.018130 -0.001566 -0.001497  0.020408   \n",
       "\n",
       "Ticker           NVS        PG  \n",
       "Date                            \n",
       "2020-08-25  0.000810  0.003971  \n",
       "2020-08-26  0.006709 -0.004818  \n",
       "2020-08-27 -0.000345 -0.001301  \n",
       "2020-08-28 -0.004598  0.004052  \n",
       "2020-08-31 -0.006236 -0.003171  "
      ]
     },
     "execution_count": 9,
     "metadata": {},
     "output_type": "execute_result"
    }
   ],
   "source": [
    "returns_portfolio = closePriceTable.pct_change().fillna(method='bfill')\n",
    "returns_portfolio.tail()"
   ]
  },
  {
   "cell_type": "code",
   "execution_count": 10,
   "metadata": {},
   "outputs": [
    {
     "name": "stderr",
     "output_type": "stream",
     "text": [
      "/opt/conda/lib/python3.7/site-packages/ipykernel_launcher.py:4: UserWarning: To output multiple subplots, the figure containing the passed axes is being cleared\n",
      "  after removing the cwd from sys.path.\n"
     ]
    },
    {
     "data": {
      "image/png": "[encoded data removed]",
      "text/plain": [
       "<Figure size 1080x504 with 9 Axes>"
      ]
     },
     "metadata": {
      "needs_background": "light"
     },
     "output_type": "display_data"
    }
   ],
   "source": [
    "%matplotlib inline\n",
    "fig2 = plt.figure(figsize=(15, 7))\n",
    "ax2 = fig2.add_subplot(1, 1, 1)\n",
    "returns_portfolio.hist(bins=50, ax=ax2)\n",
    "ax2.set_xlabel('Return')\n",
    "ax2.set_ylabel('Frequency')\n",
    "ax2.set_title('Portfolio Return Distribution')\n",
    "plt.show()"
   ]
  },
  {
   "cell_type": "code",
   "execution_count": 11,
   "metadata": {},
   "outputs": [
    {
     "data": {
      "image/png": "[encoded data removed]",
      "text/plain": [
       "<Figure size 1080x504 with 1 Axes>"
      ]
     },
     "metadata": {
      "needs_background": "light"
     },
     "output_type": "display_data"
    }
   ],
   "source": [
    "import scipy.stats as stats\n",
    "fig3 = plt.figure(figsize=(15, 7))\n",
    "ax3 = fig3.add_subplot(1, 1, 1)\n",
    "ax3.set_title(\"Probplot\")\n",
    "stats.probplot(aapl['Return'], dist='norm', plot=ax3)\n",
    "plt.show()"
   ]
  },
  {
   "cell_type": "code",
   "execution_count": 12,
   "metadata": {},
   "outputs": [
    {
     "name": "stdout",
     "output_type": "stream",
     "text": [
      "(0.9085970520973206, 1.2345789549566993e-19)\n"
     ]
    }
   ],
   "source": [
    "# Shapiro Test\n",
    "print(stats.shapiro(aapl['Return']))"
   ]
  },
  {
   "cell_type": "code",
   "execution_count": 13,
   "metadata": {},
   "outputs": [],
   "source": [
    "returns = aapl['Return']\n",
    "quantiles = [] # records midpoints that we calculate\n",
    "quantiles_percent = [] # records the proportion of the date lie below the quantile\n",
    "for i, val in enumerate(returns[:-1]):\n",
    "    quantiles.append((val + returns[i+1])/2)\n",
    "    quantiles_percent.append((i+1)/len(returns))\n",
    "sorted_quantiles = sorted(quantiles)\n",
    "# print(sorted_quantiles)\n",
    "# print(quantiles_percent)"
   ]
  },
  {
   "cell_type": "code",
   "execution_count": 14,
   "metadata": {},
   "outputs": [
    {
     "data": {
      "text/html": [
       "<div>\n",
       "<style scoped>\n",
       "    .dataframe tbody tr th:only-of-type {\n",
       "        vertical-align: middle;\n",
       "    }\n",
       "\n",
       "    .dataframe tbody tr th {\n",
       "        vertical-align: top;\n",
       "    }\n",
       "\n",
       "    .dataframe thead th {\n",
       "        text-align: right;\n",
       "    }\n",
       "</style>\n",
       "<table border=\"1\" class=\"dataframe\">\n",
       "  <thead>\n",
       "    <tr style=\"text-align: right;\">\n",
       "      <th></th>\n",
       "      <th>percent_below</th>\n",
       "      <th>quantile</th>\n",
       "      <th>theoretical_quantile</th>\n",
       "    </tr>\n",
       "  </thead>\n",
       "  <tbody>\n",
       "    <tr>\n",
       "      <th>665</th>\n",
       "      <td>0.992548</td>\n",
       "      <td>0.044070</td>\n",
       "      <td>2.434725</td>\n",
       "    </tr>\n",
       "    <tr>\n",
       "      <th>666</th>\n",
       "      <td>0.994039</td>\n",
       "      <td>0.046258</td>\n",
       "      <td>2.514430</td>\n",
       "    </tr>\n",
       "    <tr>\n",
       "      <th>667</th>\n",
       "      <td>0.995529</td>\n",
       "      <td>0.047408</td>\n",
       "      <td>2.614268</td>\n",
       "    </tr>\n",
       "    <tr>\n",
       "      <th>668</th>\n",
       "      <td>0.997019</td>\n",
       "      <td>0.058394</td>\n",
       "      <td>2.749905</td>\n",
       "    </tr>\n",
       "    <tr>\n",
       "      <th>669</th>\n",
       "      <td>0.998510</td>\n",
       "      <td>0.064943</td>\n",
       "      <td>2.969729</td>\n",
       "    </tr>\n",
       "  </tbody>\n",
       "</table>\n",
       "</div>"
      ],
      "text/plain": [
       "     percent_below  quantile  theoretical_quantile\n",
       "665       0.992548  0.044070              2.434725\n",
       "666       0.994039  0.046258              2.514430\n",
       "667       0.995529  0.047408              2.614268\n",
       "668       0.997019  0.058394              2.749905\n",
       "669       0.998510  0.064943              2.969729"
      ]
     },
     "execution_count": 14,
     "metadata": {},
     "output_type": "execute_result"
    }
   ],
   "source": [
    "from scipy.stats import norm\n",
    "qp_array = np.array(quantiles_percent).reshape(-1,1)\n",
    "tq_array = np.array(sorted_quantiles).reshape(-1,1)\n",
    "qq_df = pd.DataFrame(np.concatenate((qp_array, tq_array), axis=1),\n",
    "                     columns=['percent_below', 'quantile'])\n",
    "qq_df['theoretical_quantile'] = [norm.ppf(percentage) for percentage in qq_df['percent_below']]\n",
    "qq_df.tail()"
   ]
  },
  {
   "cell_type": "code",
   "execution_count": 15,
   "metadata": {},
   "outputs": [
    {
     "data": {
      "image/png": "[encoded data removed]",
      "text/plain": [
       "<Figure size 432x288 with 1 Axes>"
      ]
     },
     "metadata": {
      "needs_background": "light"
     },
     "output_type": "display_data"
    }
   ],
   "source": [
    "ax4 = qq_df.plot.scatter(x='theoretical_quantile', y='quantile', label='actual')"
   ]
  },
  {
   "cell_type": "code",
   "execution_count": 16,
   "metadata": {},
   "outputs": [
    {
     "data": {
      "image/png": "[encoded data removed]",
      "text/plain": [
       "<Figure size 1080x504 with 1 Axes>"
      ]
     },
     "metadata": {
      "needs_background": "light"
     },
     "output_type": "display_data"
    }
   ],
   "source": [
    "# a random normal distribution with the same mean and standard deviation for Apple Inc.\n",
    "normal = np.random.normal(\n",
    "    loc   = 0.001871, # mean\n",
    "    scale = 0.021677, # std\n",
    "    size  = 671, # num\n",
    ")\n",
    "fig = plt.figure(figsize=(15, 7))\n",
    "ax5 = fig.add_subplot(1, 1, 1)\n",
    "ax5.set_xlabel('Return')\n",
    "ax5.set_ylabel('Frequency')\n",
    "ax5.set_title('Return distribution with a random normal distribution data')\n",
    "plt.hist(normal, bins=50)\n",
    "plt.show()"
   ]
  },
  {
   "cell_type": "code",
   "execution_count": null,
   "metadata": {},
   "outputs": [],
   "source": []
  }
 ],
 "metadata": {
  "kernelspec": {
   "display_name": "Python 3",
   "language": "python",
   "name": "python3"
  },
  "language_info": {
   "codemirror_mode": {
    "name": "ipython",
    "version": 3
   },
   "file_extension": ".py",
   "mimetype": "text/x-python",
   "name": "python",
   "nbconvert_exporter": "python",
   "pygments_lexer": "ipython3",
   "version": "3.7.3"
  }
 },
 "nbformat": 4,
 "nbformat_minor": 2
}
